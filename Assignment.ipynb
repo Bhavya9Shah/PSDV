{
  "cells": [
    {
      "cell_type": "markdown",
      "metadata": {
        "id": "view-in-github",
        "colab_type": "text"
      },
      "source": [
        "<a href=\"https://colab.research.google.com/github/Bhavya9Shah/PSDV/blob/main/Assignment.ipynb\" target=\"_parent\"><img src=\"https://colab.research.google.com/assets/colab-badge.svg\" alt=\"Open In Colab\"/></a>"
      ]
    },
    {
      "cell_type": "markdown",
      "id": "fff343de-1305-462f-b550-072636224262",
      "metadata": {
        "id": "fff343de-1305-462f-b550-072636224262"
      },
      "source": [
        "1."
      ]
    },
    {
      "cell_type": "code",
      "execution_count": null,
      "id": "6c56b779-f9ca-4e36-b622-ef68a2e5e6f3",
      "metadata": {
        "colab": {
          "base_uri": "https://localhost:8080/"
        },
        "id": "6c56b779-f9ca-4e36-b622-ef68a2e5e6f3",
        "outputId": "989e6c4d-4ac6-42c0-8356-11478307c689"
      },
      "outputs": [
        {
          "output_type": "stream",
          "name": "stdout",
          "text": [
            "Sum of even numbers: 100\n",
            "Product of odd numbers: 3715891200\n",
            "mean:10.5\n",
            "edian:10.5\n",
            "Standard Deviation:5.916079783099616\n"
          ]
        }
      ],
      "source": [
        "import statistics\n",
        "def mean(x):\n",
        "    summ=0\n",
        "    l=len(x)\n",
        "    for item in x:\n",
        "        summ+=item\n",
        "    mean=summ/l\n",
        "    return mean\n",
        "\n",
        "def median(x):\n",
        "    x.sort()\n",
        "    if len(x)%2==0: #even\n",
        "        a=len(x)//2\n",
        "        b=a+1\n",
        "        i=(x[a-1]+x[b-1])/2\n",
        "        return i\n",
        "    else:   #odd\n",
        "        a=int((len(x)/2)+0.5)\n",
        "        return x[a-1]\n",
        "\n",
        "def sd(x):\n",
        "    summ=0\n",
        "    l=len(x)\n",
        "    for item in x:\n",
        "        summ+=item\n",
        "    mean=summ/l\n",
        "\n",
        "    add=0\n",
        "    for item in x:\n",
        "       add+=(item-mean)**2\n",
        "    sd=(add/(l-1))**0.5\n",
        "\n",
        "    return sd\n",
        "natural=[]\n",
        "for i in range(1,21):\n",
        "    natural.append(i)\n",
        "sum=0\n",
        "for i in range(0,20,2):\n",
        "    sum+=natural[i]\n",
        "product=1\n",
        "for i in range(1,20,2):\n",
        "    product*=natural[i]\n",
        "mean=mean(natural)\n",
        "median=median(natural)\n",
        "sd=sd(natural)\n",
        "print(f\"Sum of even numbers: {sum}\")\n",
        "print(f\"Product of odd numbers: {product}\")\n",
        "print(f\"mean:{mean}\")\n",
        "print(f\"edian:{median}\")\n",
        "print(f\"Standard Deviation:{sd}\")\n"
      ]
    },
    {
      "cell_type": "markdown",
      "id": "2d61627b-9695-45c6-9382-1eb83f89f8d2",
      "metadata": {
        "id": "2d61627b-9695-45c6-9382-1eb83f89f8d2"
      },
      "source": [
        "2."
      ]
    },
    {
      "cell_type": "markdown",
      "id": "a052541f-82e5-4167-8ca5-79823812e430",
      "metadata": {
        "id": "a052541f-82e5-4167-8ca5-79823812e430"
      },
      "source": [
        "Mutable and Immutable data types\n",
        "Mutable: A data type in which changes can be made after once formed.\n",
        "   e.g. Lists\n",
        "Immutable: A data type in which no further can be made after formed.\n",
        "   e.g. Tuples"
      ]
    },
    {
      "cell_type": "markdown",
      "id": "a2d43c6d-b4fe-4294-9443-6a62d3c32756",
      "metadata": {
        "id": "a2d43c6d-b4fe-4294-9443-6a62d3c32756"
      },
      "source": [
        "3."
      ]
    },
    {
      "cell_type": "code",
      "execution_count": null,
      "id": "cfb2cd1f-1579-488e-a99f-f0ab5a8e284d",
      "metadata": {
        "colab": {
          "base_uri": "https://localhost:8080/",
          "height": 507
        },
        "id": "cfb2cd1f-1579-488e-a99f-f0ab5a8e284d",
        "outputId": "201a5d76-dddc-45c1-a246-d954682548b3"
      },
      "outputs": [
        {
          "output_type": "stream",
          "name": "stdout",
          "text": [
            "10\n",
            "Input:10\n"
          ]
        },
        {
          "output_type": "display_data",
          "data": {
            "text/plain": [
              "<Figure size 640x480 with 1 Axes>"
            ],
            "image/png": "[encoded data removed]"
          },
          "metadata": {}
        }
      ],
      "source": [
        "import matplotlib.pyplot as plt\n",
        "a=1\n",
        "b=1\n",
        "lst=[]\n",
        "lst.append(a)\n",
        "lst.append(b)\n",
        "n=int(input())\n",
        "print(f\"Input:{n}\")\n",
        "for i in range(1,n):\n",
        "    a,b=b,a+b\n",
        "    lst.append(a)\n",
        "plt.plot(lst)\n",
        "plt.title(\"Fibonacci\")\n",
        "plt.xlabel(\"no\")\n",
        "plt.ylabel(\"fibo of no\")\n",
        "plt.show()\n",
        "\n"
      ]
    },
    {
      "cell_type": "markdown",
      "id": "e13b3886-3280-47ec-9686-974e8c56652c",
      "metadata": {
        "id": "e13b3886-3280-47ec-9686-974e8c56652c"
      },
      "source": [
        "4."
      ]
    },
    {
      "cell_type": "code",
      "execution_count": null,
      "id": "df8b0ba3-3177-4d91-811d-963199c3617a",
      "metadata": {
        "colab": {
          "base_uri": "https://localhost:8080/"
        },
        "id": "df8b0ba3-3177-4d91-811d-963199c3617a",
        "outputId": "6fe5e95b-59a3-4706-99ec-26e0bb7da795"
      },
      "outputs": [
        {
          "output_type": "stream",
          "name": "stdout",
          "text": [
            "Mean:7.833333333333333\n",
            "Median:7.5\n"
          ]
        }
      ],
      "source": [
        "import statistics\n",
        "def mean(x):\n",
        "    summ=0\n",
        "    l=len(x)\n",
        "    for item in x:\n",
        "        summ+=item\n",
        "    mean=summ/l\n",
        "    return mean\n",
        "\n",
        "def median(x):\n",
        "    x.sort()\n",
        "    if len(x)%2==0: #even\n",
        "        a=len(x)//2\n",
        "        b=a+1\n",
        "        i=(x[a-1]+x[b-1])/2\n",
        "        return i\n",
        "    else:   #odd\n",
        "        a=int((len(x)/2)+0.5)\n",
        "        return x[a-1]\n",
        "\n",
        "def sd(x):\n",
        "    summ=0\n",
        "    l=len(x)\n",
        "    for item in x:\n",
        "        summ+=item\n",
        "    mean=summ/l\n",
        "\n",
        "    add=0\n",
        "    for item in x:\n",
        "       add+=(item-mean)**2\n",
        "    sd=(add/(l-1))**0.5\n",
        "\n",
        "    return sd\n",
        "lst=[3,5,7,9,11,13]\n",
        "lst.insert(3,6)\n",
        "lst.remove(7)\n",
        "lst.reverse()\n",
        "print(f\"Mean:{mean(lst)}\")\n",
        "print(f\"Median:{median(lst)}\")"
      ]
    },
    {
      "cell_type": "markdown",
      "id": "277a267d-24b1-4c64-a666-b100be01d6b7",
      "metadata": {
        "id": "277a267d-24b1-4c64-a666-b100be01d6b7"
      },
      "source": [
        "5."
      ]
    },
    {
      "cell_type": "code",
      "execution_count": null,
      "id": "646cf2c3-04e9-4aa7-946a-efa057b428ec",
      "metadata": {
        "id": "646cf2c3-04e9-4aa7-946a-efa057b428ec",
        "outputId": "01700f71-f6eb-4d55-f0c1-868171acfc9d"
      },
      "outputs": [
        {
          "name": "stdout",
          "output_type": "stream",
          "text": [
            " 11,51,44,51,32,87,76,56,98,89,54,44,46,34,74,66,12,41,48,98,78,45,52,36,32,25,15,14,74,85,96,36,25,15,74,12,31,61,55,58,45,47,88,78,98,99,25,12,14,36,66,65,45,78,85,99,87,88,47,55,54,14,46,66,96\n"
          ]
        },
        {
          "name": "stdout",
          "output_type": "stream",
          "text": [
            "Mean:54.83076923076923\n",
            "Largest=99\n",
            "Smallest=11\n"
          ]
        },
        {
          "data": {
            "image/png": "[encoded data removed]",
            "text/plain": [
              "<Figure size 640x480 with 1 Axes>"
            ]
          },
          "metadata": {},
          "output_type": "display_data"
        }
      ],
      "source": [
        "import statistics\n",
        "import matplotlib.pyplot as plt\n",
        "def mean(x):\n",
        "    summ=0\n",
        "    l=len(x)\n",
        "    for item in x:\n",
        "        summ+=item\n",
        "    mean=summ/l\n",
        "    return mean\n",
        "\n",
        "def median(x):\n",
        "    x.sort()\n",
        "    if len(x)%2==0: #even\n",
        "        a=len(x)//2\n",
        "        b=a+1\n",
        "        i=(x[a-1]+x[b-1])/2\n",
        "        return i\n",
        "    else:   #odd\n",
        "        a=int((len(x)/2)+0.5)\n",
        "        return x[a-1]\n",
        "\n",
        "def sd(x):\n",
        "    summ=0\n",
        "    l=len(x)\n",
        "    for item in x:\n",
        "        summ+=item\n",
        "    mean=summ/l\n",
        "\n",
        "    add=0\n",
        "    for item in x:\n",
        "       add+=(item-mean)**2\n",
        "    sd=(add/(l-1))**0.5\n",
        "\n",
        "    return sd\n",
        "lst=list(map(int,(input().split(\",\"))))\n",
        "print(f\"Input:{lst}\")\n",
        "mean=mean(lst)\n",
        "print(f\"Mean:{mean}\")\n",
        "smallest=float('inf')\n",
        "largest=0\n",
        "for i in range(len(lst)):\n",
        "    if lst[i]>largest:\n",
        "        largest=lst[i]\n",
        "    if lst[i]<smallest:\n",
        "        smallest=lst[i]\n",
        "print(f\"Largest={largest}\")\n",
        "print(f\"Smallest={smallest}\")\n",
        "plt.hist(lst,edgecolor=\"black\")\n",
        "plt.title(\"\")\n",
        "plt.xlabel(\"\")\n",
        "plt.ylabel(\"\")\n",
        "plt.show()"
      ]
    },
    {
      "cell_type": "markdown",
      "id": "9e6424e2-b448-418d-a7e2-2b99e8f716fa",
      "metadata": {
        "id": "9e6424e2-b448-418d-a7e2-2b99e8f716fa"
      },
      "source": [
        "6."
      ]
    },
    {
      "cell_type": "code",
      "execution_count": null,
      "id": "516e4790-e7dd-4db5-a614-13c1f9feaf93",
      "metadata": {
        "colab": {
          "base_uri": "https://localhost:8080/"
        },
        "id": "516e4790-e7dd-4db5-a614-13c1f9feaf93",
        "outputId": "61aa4500-7a26-49e9-a2dc-a637430741cf"
      },
      "outputs": [
        {
          "output_type": "stream",
          "name": "stdout",
          "text": [
            "A man a plan a canal Panama\n",
            "True\n"
          ]
        }
      ],
      "source": [
        "srg=input()\n",
        "srg=srg.replace(\" \",\"\")\n",
        "srg=srg.lower()\n",
        "n=len(srg)\n",
        "nsrg=\"\"\n",
        "for i in range(n-1,-1,-1):\n",
        "    nsrg+=srg[i]\n",
        "if nsrg==srg:\n",
        "    print(\"True\")\n",
        "\n",
        "\n"
      ]
    },
    {
      "cell_type": "markdown",
      "id": "a2ad4695-7fea-4ddb-a365-1d0f5422382e",
      "metadata": {
        "id": "a2ad4695-7fea-4ddb-a365-1d0f5422382e"
      },
      "source": [
        "7."
      ]
    },
    {
      "cell_type": "code",
      "execution_count": null,
      "id": "72a217c2-c7b4-4685-a475-d947daaab4f7",
      "metadata": {
        "colab": {
          "base_uri": "https://localhost:8080/",
          "height": 518
        },
        "id": "72a217c2-c7b4-4685-a475-d947daaab4f7",
        "outputId": "87bd0646-e65c-4829-a72a-153e40c7270a"
      },
      "outputs": [
        {
          "output_type": "stream",
          "name": "stdout",
          "text": [
            "39\n",
            "42\n",
            "50\n",
            "54\n"
          ]
        },
        {
          "output_type": "display_data",
          "data": {
            "text/plain": [
              "<Figure size 640x480 with 1 Axes>"
            ],
            "image/png": "[encoded data removed]"
          },
          "metadata": {}
        }
      ],
      "source": [
        "import matplotlib.pyplot as plt\n",
        "dic={'bhavya':23 , 'saiyam':42 , 'aadish':35 , 'radhi':32 , 'kayvan':50 , 'hemang':54}\n",
        "add=0\n",
        "for value in dic.values():\n",
        "    add+=value\n",
        "average=add//len(dic)\n",
        "print(average)\n",
        "for value in dic.values():\n",
        "    if value>average:\n",
        "        print(value)\n",
        "ls=[]\n",
        "for item in dic.keys():\n",
        "    ls.append(item)\n",
        "\n",
        "lst=[]\n",
        "for value in dic.values():\n",
        "    lst.append(value)\n",
        "plt.bar(ls,lst)\n",
        "plt.xlabel(\"names\")\n",
        "plt.ylabel(\"marks\")\n",
        "plt.show()\n",
        "\n",
        "\n"
      ]
    },
    {
      "cell_type": "markdown",
      "id": "bfdc1d37-4a7a-4f00-b385-2e1350f260fe",
      "metadata": {
        "id": "bfdc1d37-4a7a-4f00-b385-2e1350f260fe"
      },
      "source": [
        "8.\n",
        "\n"
      ]
    },
    {
      "cell_type": "code",
      "execution_count": null,
      "id": "f5567cd1-a36d-4f98-8bbf-bd495bd12e58",
      "metadata": {
        "id": "f5567cd1-a36d-4f98-8bbf-bd495bd12e58",
        "outputId": "5bae11ff-fe49-4a87-be77-74b23aa779b8"
      },
      "outputs": [
        {
          "name": "stdout",
          "output_type": "stream",
          "text": [
            "[(1, 1), (2, 4), (3, 9), (4, 16), (5, 25), (6, 36), (7, 49), (8, 64), (9, 81), (10, 100)]\n"
          ]
        },
        {
          "data": {
            "image/png": "[encoded data removed]",
            "text/plain": [
              "<Figure size 640x480 with 1 Axes>"
            ]
          },
          "metadata": {},
          "output_type": "display_data"
        }
      ],
      "source": [
        "import matplotlib.pyplot as plt\n",
        "lst=[]\n",
        "for i in range(1,11):\n",
        "    a=i\n",
        "    b=i*i\n",
        "    tupp=(a,b)\n",
        "    lst.append(tupp)\n",
        "print(lst)\n",
        "x=[]\n",
        "for i in range(1,11):\n",
        "    x.append(i)\n",
        "y=[]\n",
        "for i in range(1,11):\n",
        "    y.append(i*i)\n",
        "plt.scatter(x,y)\n",
        "plt.show()\n"
      ]
    },
    {
      "cell_type": "markdown",
      "id": "3e571849",
      "metadata": {
        "id": "3e571849"
      },
      "source": [
        "9."
      ]
    },
    {
      "cell_type": "code",
      "execution_count": null,
      "id": "15b053bd",
      "metadata": {
        "id": "15b053bd",
        "outputId": "7845f04c-4f1f-4705-ec9a-72c0eb16f322"
      },
      "outputs": [
        {
          "name": "stdout",
          "output_type": "stream",
          "text": [
            "{'b': 20, 'c': 15, 'a': 10}\n"
          ]
        }
      ],
      "source": [
        " dic1=eval(input())\n",
        " dic2=eval(input())\n",
        " dic3={}\n",
        " for key,value in dic1.items():\n",
        "    dic3[key]=value\n",
        "for key,value in dic2.items():\n",
        "    if key not in dic3:\n",
        "       dic3[key]=value\n",
        "    else:\n",
        "       dic3[key]=value\n",
        "print(dic3)\n",
        "\n",
        "\n",
        "\n"
      ]
    },
    {
      "cell_type": "markdown",
      "id": "b8c7834e",
      "metadata": {
        "id": "b8c7834e"
      },
      "source": [
        "10."
      ]
    },
    {
      "cell_type": "code",
      "execution_count": null,
      "id": "503385e9",
      "metadata": {
        "id": "503385e9",
        "outputId": "713a336b-3eef-43ea-9749-6fd10e472272"
      },
      "outputs": [
        {
          "name": "stdout",
          "output_type": "stream",
          "text": [
            "{'q': 1, 's': 2, 'd': 3, 'f': 4, 'g': 3, 'h': 6, 'j': 4, 'u': 5, 'y': 5, 't': 4, 'r': 4, 'i': 4, 'n': 2, 'k': 3, 'o': 2, 'm': 1, 'l': 1, 'v': 4, 'b': 4, 'c': 3, 'e': 1, 'x': 1}\n"
          ]
        },
        {
          "data": {
            "image/png": "[encoded data removed]",
            "text/plain": [
              "<Figure size 640x480 with 1 Axes>"
            ]
          },
          "metadata": {},
          "output_type": "display_data"
        }
      ],
      "source": [
        "import matplotlib.pyplot as plt\n",
        "stg=input()\n",
        "stg=stg.lower()\n",
        "\n",
        "dic={}\n",
        "for item in stg:\n",
        "    if item not in dic:\n",
        "        dic[item]=1\n",
        "    else:\n",
        "        dic[item]+=1\n",
        "print(dic)\n",
        "k=[]\n",
        "val=[]\n",
        "for key,value in dic.items():\n",
        "    k.append(key)\n",
        "    val.append(value)\n",
        "plt.bar(k,val)\n",
        "plt.show()\n",
        "\n",
        "\n",
        "\n"
      ]
    },
    {
      "cell_type": "markdown",
      "id": "ee5bb8e9",
      "metadata": {
        "id": "ee5bb8e9"
      },
      "source": [
        "11."
      ]
    },
    {
      "cell_type": "code",
      "execution_count": null,
      "id": "4d2cfab3",
      "metadata": {
        "colab": {
          "base_uri": "https://localhost:8080/"
        },
        "id": "4d2cfab3",
        "outputId": "9cf3c9d5-85e6-4eae-840c-b64b9a03e952"
      },
      "outputs": [
        {
          "output_type": "stream",
          "name": "stdout",
          "text": [
            "[1, 2, 3, 2, 4, 1, 5, 6, 3, 7]\n",
            "Mean:4.0\n",
            "Median:4\n"
          ]
        }
      ],
      "source": [
        "import statistics\n",
        "\n",
        "def mean(x):\n",
        "    summ=0\n",
        "    l=len(x)\n",
        "    for item in x:\n",
        "        summ+=item\n",
        "    mean=summ/l\n",
        "    return mean\n",
        "\n",
        "def median(x):\n",
        "    x.sort()\n",
        "    if len(x)%2==0: #even\n",
        "        a=len(x)//2\n",
        "        b=a+1\n",
        "        i=(x[a-1]+x[b-1])/2\n",
        "        return i\n",
        "    else:   #odd\n",
        "        a=int((len(x)/2)+0.5)\n",
        "        return x[a-1]\n",
        "\n",
        "def sd(x):\n",
        "    summ=0\n",
        "    l=len(x)\n",
        "    for item in x:\n",
        "        summ+=item\n",
        "    mean=summ/l\n",
        "\n",
        "    add=0\n",
        "    for item in x:\n",
        "       add+=(item-mean)**2\n",
        "    sd=(add/(l-1))**0.5\n",
        "\n",
        "    return sd\n",
        "lst=eval(input())\n",
        "n=[]\n",
        "for item in lst:\n",
        "    if item not in n:\n",
        "        n.append(item)\n",
        "print(f\"Mean:{mean(n)}\")\n",
        "print(f\"Median:{median(n)}\")\n"
      ]
    },
    {
      "cell_type": "markdown",
      "id": "c621f839",
      "metadata": {
        "id": "c621f839"
      },
      "source": [
        "12."
      ]
    },
    {
      "cell_type": "code",
      "execution_count": null,
      "id": "ee5f076f",
      "metadata": {
        "colab": {
          "base_uri": "https://localhost:8080/",
          "height": 465
        },
        "id": "ee5f076f",
        "outputId": "7852c3fc-46fe-4bea-fb0d-c7a032a393b0"
      },
      "outputs": [
        {
          "output_type": "stream",
          "name": "stdout",
          "text": [
            "[\"elephant\", \"orange\", \"banana\", \"umbrella\", \"iguana\", \"octopus\", \"kiwi\", \"apple\", \"pear\", \"grape\", \"eagle\", \"ostrich\"]\n",
            "The longest string is:elephant\n"
          ]
        },
        {
          "output_type": "display_data",
          "data": {
            "text/plain": [
              "<Figure size 640x480 with 1 Axes>"
            ],
            "image/png": "[encoded data removed]"
          },
          "metadata": {}
        }
      ],
      "source": [
        "import matplotlib.pyplot as plt\n",
        "l=eval(input())\n",
        "lo=0\n",
        "longest=\"\"\n",
        "for item in l:\n",
        "    if len(item)>lo:\n",
        "        lo=len(item)\n",
        "        longest=item\n",
        "print(f\"The longest string is:{longest}\")\n",
        "count=0\n",
        "for item in l:\n",
        "    if item[0] in \"AEIOUaeiou\":\n",
        "        count+=1\n",
        "\n",
        "\n",
        "le=[]\n",
        "for item in l:\n",
        "    le.append(len(item))\n",
        "\n",
        "plt.hist(le)\n",
        "plt.show()\n",
        "\n"
      ]
    },
    {
      "cell_type": "markdown",
      "id": "78467db7",
      "metadata": {
        "id": "78467db7"
      },
      "source": [
        "13."
      ]
    },
    {
      "cell_type": "code",
      "execution_count": null,
      "id": "8794ead9",
      "metadata": {
        "colab": {
          "base_uri": "https://localhost:8080/"
        },
        "id": "8794ead9",
        "outputId": "3053fd8c-74bb-4e36-80a5-5258e69c4e4a"
      },
      "outputs": [
        {
          "output_type": "stream",
          "name": "stdout",
          "text": [
            "[{'name': 'Alice', 'age': 25}, {'name': 'Bob', 'age': 22}]\n",
            "age\n",
            "[{'name': 'Bob', 'age': 22}, {'name': 'Alice', 'age': 25}]\n"
          ]
        }
      ],
      "source": [
        "from operator import itemgetter\n",
        "lst=eval(input())\n",
        "v=input()\n",
        "lst.sort(key=itemgetter(v))\n",
        "print(lst)"
      ]
    },
    {
      "cell_type": "markdown",
      "id": "794d5478",
      "metadata": {
        "id": "794d5478"
      },
      "source": [
        "14."
      ]
    },
    {
      "cell_type": "code",
      "execution_count": null,
      "id": "05b387fe",
      "metadata": {
        "id": "05b387fe",
        "outputId": "550cfe46-6fbc-4713-d79b-6822bde982fd"
      },
      "outputs": [
        {
          "name": "stdout",
          "output_type": "stream",
          "text": [
            "['admiring', 'beautiful', 'bhavya', 'composed', 'everything', 'extremely', 'sincere']\n"
          ]
        },
        {
          "data": {
            "image/png": "[encoded data removed]",
            "text/plain": [
              "<Figure size 640x480 with 1 Axes>"
            ]
          },
          "metadata": {},
          "output_type": "display_data"
        }
      ],
      "source": [
        "import matplotlib.pyplot as plt\n",
        "lst=list(input().split(\" \"))\n",
        "ls=[]\n",
        "for item in lst:\n",
        "    if len(item)>4:\n",
        "        ls.append(item)\n",
        "\n",
        "ls.sort()\n",
        "print(ls)\n",
        "l=[]\n",
        "for item in ls:\n",
        "    l.append(len(item))\n",
        "plt.bar(ls,l)\n",
        "plt.show()"
      ]
    },
    {
      "cell_type": "markdown",
      "id": "b24b3f42",
      "metadata": {
        "id": "b24b3f42"
      },
      "source": [
        "15."
      ]
    },
    {
      "cell_type": "code",
      "execution_count": null,
      "id": "ba733792",
      "metadata": {
        "colab": {
          "base_uri": "https://localhost:8080/"
        },
        "id": "ba733792",
        "outputId": "9c34df53-d6fa-4eda-b307-d57a04ef5fda"
      },
      "outputs": [
        {
          "output_type": "stream",
          "name": "stdout",
          "text": [
            "listen\n",
            "[\"enlist\", \"google\", \"inlets\", \"banana\"]\n",
            "['enlist', 'inlets']\n"
          ]
        }
      ],
      "source": [
        "word=input()\n",
        "words=eval(input())\n",
        "def ctl(x):\n",
        "    ls=[]\n",
        "    for item in x:\n",
        "        ls.append(item)\n",
        "    ls.sort()\n",
        "    return ls\n",
        "andagram=[]\n",
        "for ite in words:\n",
        "    if ctl(ite)==ctl(word):\n",
        "        andagram.append(ite)\n",
        "print(andagram)"
      ]
    },
    {
      "cell_type": "markdown",
      "id": "c7a9d86e",
      "metadata": {
        "id": "c7a9d86e"
      },
      "source": [
        "16."
      ]
    },
    {
      "cell_type": "code",
      "execution_count": null,
      "id": "1f675493",
      "metadata": {
        "id": "1f675493",
        "outputId": "2e6c0152-5f73-4a6a-a5ef-87f4baa5102c",
        "colab": {
          "base_uri": "https://localhost:8080/"
        }
      },
      "outputs": [
        {
          "output_type": "stream",
          "name": "stdout",
          "text": [
            "[1, 2, 3, 4, 5, 6]\n",
            "[4, 5, 6, 7, 8, 9]\n",
            "[4, 5, 6]\n",
            "[1, 2, 3, 4, 5, 6, 7, 8, 9]\n",
            "[1, 2, 3, 7, 8, 9]\n"
          ]
        }
      ],
      "source": [
        "list1=eval(input())\n",
        "list2=eval(input())\n",
        "intersection=[]\n",
        "for item in list1:\n",
        "    if item in list2:\n",
        "      intersection.append(item)\n",
        "union=[]\n",
        "for item in list1:\n",
        "   union.append(item)\n",
        "for item in list2:\n",
        "   if item not in union:\n",
        "      union.append(item)\n",
        "print(intersection)\n",
        "print(union)\n",
        "symm=[]\n",
        "for item in intersection:\n",
        "   union.remove(item)\n",
        "print(union)\n",
        "\n",
        "\n",
        "\n"
      ]
    },
    {
      "cell_type": "markdown",
      "id": "46671895",
      "metadata": {
        "id": "46671895"
      },
      "source": [
        "17."
      ]
    },
    {
      "cell_type": "code",
      "execution_count": null,
      "id": "57528d0c",
      "metadata": {
        "id": "57528d0c",
        "outputId": "258cd434-02ff-4edf-ae1e-4d7c889cda4c",
        "colab": {
          "base_uri": "https://localhost:8080/"
        }
      },
      "outputs": [
        {
          "output_type": "stream",
          "name": "stdout",
          "text": [
            "[1,2,3,4,5]\n",
            "15\n"
          ]
        }
      ],
      "source": [
        "with open('new.txt','w') as file:\n",
        "    lnum=eval(input())\n",
        "    for item in lnum:\n",
        "        file.write(str(item)+\"\\n\")\n",
        "with open('new.txt','r') as file:\n",
        "    sum=0\n",
        "    for line in file:\n",
        "        sum+=int(line.strip())\n",
        "print(sum)\n",
        "\n"
      ]
    },
    {
      "cell_type": "markdown",
      "id": "0bb05788",
      "metadata": {
        "id": "0bb05788"
      },
      "source": [
        "18."
      ]
    },
    {
      "cell_type": "code",
      "execution_count": null,
      "id": "30001985",
      "metadata": {
        "id": "30001985",
        "outputId": "254273ea-8bfe-4349-dfed-e1b34bf9ed79",
        "colab": {
          "base_uri": "https://localhost:8080/",
          "height": 503
        }
      },
      "outputs": [
        {
          "output_type": "display_data",
          "data": {
            "text/plain": [
              "<IPython.core.display.HTML object>"
            ],
            "text/html": [
              "\n",
              "     <input type=\"file\" id=\"files-2dbdce5f-3815-42be-b18a-0f48ca242929\" name=\"files[]\" multiple disabled\n",
              "        style=\"border:none\" />\n",
              "     <output id=\"result-2dbdce5f-3815-42be-b18a-0f48ca242929\">\n",
              "      Upload widget is only available when the cell has been executed in the\n",
              "      current browser session. Please rerun this cell to enable.\n",
              "      </output>\n",
              "      <script>// Copyright 2017 Google LLC\n",
              "//\n",
              "// Licensed under the Apache License, Version 2.0 (the \"License\");\n",
              "// you may not use this file except in compliance with the License.\n",
              "// You may obtain a copy of the License at\n",
              "//\n",
              "//      http://www.apache.org/licenses/LICENSE-2.0\n",
              "//\n",
              "// Unless required by applicable law or agreed to in writing, software\n",
              "// distributed under the License is distributed on an \"AS IS\" BASIS,\n",
              "// WITHOUT WARRANTIES OR CONDITIONS OF ANY KIND, either express or implied.\n",
              "// See the License for the specific language governing permissions and\n",
              "// limitations under the License.\n",
              "\n",
              "/**\n",
              " * @fileoverview Helpers for google.colab Python module.\n",
              " */\n",
              "(function(scope) {\n",
              "function span(text, styleAttributes = {}) {\n",
              "  const element = document.createElement('span');\n",
              "  element.textContent = text;\n",
              "  for (const key of Object.keys(styleAttributes)) {\n",
              "    element.style[key] = styleAttributes[key];\n",
              "  }\n",
              "  return element;\n",
              "}\n",
              "\n",
              "// Max number of bytes which will be uploaded at a time.\n",
              "const MAX_PAYLOAD_SIZE = 100 * 1024;\n",
              "\n",
              "function _uploadFiles(inputId, outputId) {\n",
              "  const steps = uploadFilesStep(inputId, outputId);\n",
              "  const outputElement = document.getElementById(outputId);\n",
              "  // Cache steps on the outputElement to make it available for the next call\n",
              "  // to uploadFilesContinue from Python.\n",
              "  outputElement.steps = steps;\n",
              "\n",
              "  return _uploadFilesContinue(outputId);\n",
              "}\n",
              "\n",
              "// This is roughly an async generator (not supported in the browser yet),\n",
              "// where there are multiple asynchronous steps and the Python side is going\n",
              "// to poll for completion of each step.\n",
              "// This uses a Promise to block the python side on completion of each step,\n",
              "// then passes the result of the previous step as the input to the next step.\n",
              "function _uploadFilesContinue(outputId) {\n",
              "  const outputElement = document.getElementById(outputId);\n",
              "  const steps = outputElement.steps;\n",
              "\n",
              "  const next = steps.next(outputElement.lastPromiseValue);\n",
              "  return Promise.resolve(next.value.promise).then((value) => {\n",
              "    // Cache the last promise value to make it available to the next\n",
              "    // step of the generator.\n",
              "    outputElement.lastPromiseValue = value;\n",
              "    return next.value.response;\n",
              "  });\n",
              "}\n",
              "\n",
              "/**\n",
              " * Generator function which is called between each async step of the upload\n",
              " * process.\n",
              " * @param {string} inputId Element ID of the input file picker element.\n",
              " * @param {string} outputId Element ID of the output display.\n",
              " * @return {!Iterable<!Object>} Iterable of next steps.\n",
              " */\n",
              "function* uploadFilesStep(inputId, outputId) {\n",
              "  const inputElement = document.getElementById(inputId);\n",
              "  inputElement.disabled = false;\n",
              "\n",
              "  const outputElement = document.getElementById(outputId);\n",
              "  outputElement.innerHTML = '';\n",
              "\n",
              "  const pickedPromise = new Promise((resolve) => {\n",
              "    inputElement.addEventListener('change', (e) => {\n",
              "      resolve(e.target.files);\n",
              "    });\n",
              "  });\n",
              "\n",
              "  const cancel = document.createElement('button');\n",
              "  inputElement.parentElement.appendChild(cancel);\n",
              "  cancel.textContent = 'Cancel upload';\n",
              "  const cancelPromise = new Promise((resolve) => {\n",
              "    cancel.onclick = () => {\n",
              "      resolve(null);\n",
              "    };\n",
              "  });\n",
              "\n",
              "  // Wait for the user to pick the files.\n",
              "  const files = yield {\n",
              "    promise: Promise.race([pickedPromise, cancelPromise]),\n",
              "    response: {\n",
              "      action: 'starting',\n",
              "    }\n",
              "  };\n",
              "\n",
              "  cancel.remove();\n",
              "\n",
              "  // Disable the input element since further picks are not allowed.\n",
              "  inputElement.disabled = true;\n",
              "\n",
              "  if (!files) {\n",
              "    return {\n",
              "      response: {\n",
              "        action: 'complete',\n",
              "      }\n",
              "    };\n",
              "  }\n",
              "\n",
              "  for (const file of files) {\n",
              "    const li = document.createElement('li');\n",
              "    li.append(span(file.name, {fontWeight: 'bold'}));\n",
              "    li.append(span(\n",
              "        `(${file.type || 'n/a'}) - ${file.size} bytes, ` +\n",
              "        `last modified: ${\n",
              "            file.lastModifiedDate ? file.lastModifiedDate.toLocaleDateString() :\n",
              "                                    'n/a'} - `));\n",
              "    const percent = span('0% done');\n",
              "    li.appendChild(percent);\n",
              "\n",
              "    outputElement.appendChild(li);\n",
              "\n",
              "    const fileDataPromise = new Promise((resolve) => {\n",
              "      const reader = new FileReader();\n",
              "      reader.onload = (e) => {\n",
              "        resolve(e.target.result);\n",
              "      };\n",
              "      reader.readAsArrayBuffer(file);\n",
              "    });\n",
              "    // Wait for the data to be ready.\n",
              "    let fileData = yield {\n",
              "      promise: fileDataPromise,\n",
              "      response: {\n",
              "        action: 'continue',\n",
              "      }\n",
              "    };\n",
              "\n",
              "    // Use a chunked sending to avoid message size limits. See b/62115660.\n",
              "    let position = 0;\n",
              "    do {\n",
              "      const length = Math.min(fileData.byteLength - position, MAX_PAYLOAD_SIZE);\n",
              "      const chunk = new Uint8Array(fileData, position, length);\n",
              "      position += length;\n",
              "\n",
              "      const base64 = btoa(String.fromCharCode.apply(null, chunk));\n",
              "      yield {\n",
              "        response: {\n",
              "          action: 'append',\n",
              "          file: file.name,\n",
              "          data: base64,\n",
              "        },\n",
              "      };\n",
              "\n",
              "      let percentDone = fileData.byteLength === 0 ?\n",
              "          100 :\n",
              "          Math.round((position / fileData.byteLength) * 100);\n",
              "      percent.textContent = `${percentDone}% done`;\n",
              "\n",
              "    } while (position < fileData.byteLength);\n",
              "  }\n",
              "\n",
              "  // All done.\n",
              "  yield {\n",
              "    response: {\n",
              "      action: 'complete',\n",
              "    }\n",
              "  };\n",
              "}\n",
              "\n",
              "scope.google = scope.google || {};\n",
              "scope.google.colab = scope.google.colab || {};\n",
              "scope.google.colab._files = {\n",
              "  _uploadFiles,\n",
              "  _uploadFilesContinue,\n",
              "};\n",
              "})(self);\n",
              "</script> "
            ]
          },
          "metadata": {}
        },
        {
          "output_type": "stream",
          "name": "stdout",
          "text": [
            "Saving writing.txt to writing.txt\n",
            "The most frequent word is:grape\n"
          ]
        },
        {
          "output_type": "display_data",
          "data": {
            "text/plain": [
              "<Figure size 640x480 with 1 Axes>"
            ],
            "image/png": "[encoded data removed]"
          },
          "metadata": {}
        }
      ],
      "source": [
        "import matplotlib.pyplot as plt\n",
        "from google.colab import files\n",
        "uploaded=files.upload()\n",
        "with open('writing.txt','r') as file:\n",
        "    lst=list(file.read().split(\" \"))\n",
        "    dic={}\n",
        "    for item in lst:\n",
        "        if item not in dic:\n",
        "            dic[item]=1\n",
        "        else:\n",
        "            dic[item]+=1\n",
        "    longest=0\n",
        "    mwf=\"\"\n",
        "    for key,value in dic.items():\n",
        "        if value>longest:\n",
        "            mfw=key\n",
        "    print(f\"The most frequent word is:{mfw}\")\n",
        "    x=[]\n",
        "    y=[]\n",
        "    for key,value in dic.items():\n",
        "        x.append(key)\n",
        "        y.append(value)\n",
        "    plt.bar(x,y)\n",
        "    plt.show()\n"
      ]
    },
    {
      "cell_type": "markdown",
      "id": "f685726d",
      "metadata": {
        "id": "f685726d"
      },
      "source": [
        "19."
      ]
    },
    {
      "cell_type": "code",
      "execution_count": null,
      "id": "3641b815",
      "metadata": {
        "id": "3641b815",
        "outputId": "c23f978b-7fe6-4a81-ddd9-8df3f0ddedd0"
      },
      "outputs": [
        {
          "name": "stdout",
          "output_type": "stream",
          "text": [
            "[18, 1, 7, 23, 33, 15, 1, 27, 22, 40, 3, 30, 5, 41, 34, 29, 29, 31, 14, 43, 28, 34, 19, 29, 4, 35, 2, 4, 23, 8, 31, 31, 26, 44, 22, 24, 41, 40, 31, 38, 1, 31, 45, 30, 38, 41, 22, 50, 42, 21, 40, 30, 16, 3, 17, 25, 7, 14, 14, 46, 33, 49, 43, 9, 19, 39, 27, 6, 14, 33, 30, 31, 5, 4, 46, 32, 12, 29, 41, 3, 39, 12, 47, 22, 47, 49, 2, 40, 22, 39, 3, 38, 49, 46, 22, 32, 34, 8, 15, 19]\n",
            "Mean:25\n"
          ]
        },
        {
          "data": {
            "image/png": "[encoded data removed]",
            "text/plain": [
              "<Figure size 640x480 with 1 Axes>"
            ]
          },
          "metadata": {},
          "output_type": "display_data"
        }
      ],
      "source": [
        "import random\n",
        "import matplotlib.pyplot as plt\n",
        "rn=[]\n",
        "for _ in range(100):\n",
        "    rn.append(random.randint(1,50))\n",
        "with open('as.txt','w') as file:\n",
        "    for item in rn:\n",
        "        file.write(str(item) + '\\n')\n",
        "count=0\n",
        "sum=0\n",
        "ls=[]\n",
        "with open('as.txt','r') as file:\n",
        "    for line in file:\n",
        "        sum+=int(line.strip())\n",
        "        count+=1\n",
        "        ls.append(int(line.strip()))\n",
        "    avg=sum//count\n",
        "print(ls)\n",
        "print(f\"Mean:{avg}\")\n",
        "plt.hist(ls,edgecolor=\"black\")\n",
        "plt.show()\n"
      ]
    },
    {
      "cell_type": "markdown",
      "id": "cc235ab1",
      "metadata": {
        "id": "cc235ab1"
      },
      "source": [
        "20.(pending)"
      ]
    },
    {
      "cell_type": "code",
      "execution_count": null,
      "id": "92a88b88",
      "metadata": {
        "id": "92a88b88",
        "outputId": "fc1c87ae-7c26-4fed-8c35-feed56e857bb",
        "colab": {
          "base_uri": "https://localhost:8080/",
          "height": 108
        }
      },
      "outputs": [
        {
          "output_type": "display_data",
          "data": {
            "text/plain": [
              "<IPython.core.display.HTML object>"
            ],
            "text/html": [
              "\n",
              "     <input type=\"file\" id=\"files-9e7de8e2-3d76-4cb1-9de3-52369b61d43c\" name=\"files[]\" multiple disabled\n",
              "        style=\"border:none\" />\n",
              "     <output id=\"result-9e7de8e2-3d76-4cb1-9de3-52369b61d43c\">\n",
              "      Upload widget is only available when the cell has been executed in the\n",
              "      current browser session. Please rerun this cell to enable.\n",
              "      </output>\n",
              "      <script>// Copyright 2017 Google LLC\n",
              "//\n",
              "// Licensed under the Apache License, Version 2.0 (the \"License\");\n",
              "// you may not use this file except in compliance with the License.\n",
              "// You may obtain a copy of the License at\n",
              "//\n",
              "//      http://www.apache.org/licenses/LICENSE-2.0\n",
              "//\n",
              "// Unless required by applicable law or agreed to in writing, software\n",
              "// distributed under the License is distributed on an \"AS IS\" BASIS,\n",
              "// WITHOUT WARRANTIES OR CONDITIONS OF ANY KIND, either express or implied.\n",
              "// See the License for the specific language governing permissions and\n",
              "// limitations under the License.\n",
              "\n",
              "/**\n",
              " * @fileoverview Helpers for google.colab Python module.\n",
              " */\n",
              "(function(scope) {\n",
              "function span(text, styleAttributes = {}) {\n",
              "  const element = document.createElement('span');\n",
              "  element.textContent = text;\n",
              "  for (const key of Object.keys(styleAttributes)) {\n",
              "    element.style[key] = styleAttributes[key];\n",
              "  }\n",
              "  return element;\n",
              "}\n",
              "\n",
              "// Max number of bytes which will be uploaded at a time.\n",
              "const MAX_PAYLOAD_SIZE = 100 * 1024;\n",
              "\n",
              "function _uploadFiles(inputId, outputId) {\n",
              "  const steps = uploadFilesStep(inputId, outputId);\n",
              "  const outputElement = document.getElementById(outputId);\n",
              "  // Cache steps on the outputElement to make it available for the next call\n",
              "  // to uploadFilesContinue from Python.\n",
              "  outputElement.steps = steps;\n",
              "\n",
              "  return _uploadFilesContinue(outputId);\n",
              "}\n",
              "\n",
              "// This is roughly an async generator (not supported in the browser yet),\n",
              "// where there are multiple asynchronous steps and the Python side is going\n",
              "// to poll for completion of each step.\n",
              "// This uses a Promise to block the python side on completion of each step,\n",
              "// then passes the result of the previous step as the input to the next step.\n",
              "function _uploadFilesContinue(outputId) {\n",
              "  const outputElement = document.getElementById(outputId);\n",
              "  const steps = outputElement.steps;\n",
              "\n",
              "  const next = steps.next(outputElement.lastPromiseValue);\n",
              "  return Promise.resolve(next.value.promise).then((value) => {\n",
              "    // Cache the last promise value to make it available to the next\n",
              "    // step of the generator.\n",
              "    outputElement.lastPromiseValue = value;\n",
              "    return next.value.response;\n",
              "  });\n",
              "}\n",
              "\n",
              "/**\n",
              " * Generator function which is called between each async step of the upload\n",
              " * process.\n",
              " * @param {string} inputId Element ID of the input file picker element.\n",
              " * @param {string} outputId Element ID of the output display.\n",
              " * @return {!Iterable<!Object>} Iterable of next steps.\n",
              " */\n",
              "function* uploadFilesStep(inputId, outputId) {\n",
              "  const inputElement = document.getElementById(inputId);\n",
              "  inputElement.disabled = false;\n",
              "\n",
              "  const outputElement = document.getElementById(outputId);\n",
              "  outputElement.innerHTML = '';\n",
              "\n",
              "  const pickedPromise = new Promise((resolve) => {\n",
              "    inputElement.addEventListener('change', (e) => {\n",
              "      resolve(e.target.files);\n",
              "    });\n",
              "  });\n",
              "\n",
              "  const cancel = document.createElement('button');\n",
              "  inputElement.parentElement.appendChild(cancel);\n",
              "  cancel.textContent = 'Cancel upload';\n",
              "  const cancelPromise = new Promise((resolve) => {\n",
              "    cancel.onclick = () => {\n",
              "      resolve(null);\n",
              "    };\n",
              "  });\n",
              "\n",
              "  // Wait for the user to pick the files.\n",
              "  const files = yield {\n",
              "    promise: Promise.race([pickedPromise, cancelPromise]),\n",
              "    response: {\n",
              "      action: 'starting',\n",
              "    }\n",
              "  };\n",
              "\n",
              "  cancel.remove();\n",
              "\n",
              "  // Disable the input element since further picks are not allowed.\n",
              "  inputElement.disabled = true;\n",
              "\n",
              "  if (!files) {\n",
              "    return {\n",
              "      response: {\n",
              "        action: 'complete',\n",
              "      }\n",
              "    };\n",
              "  }\n",
              "\n",
              "  for (const file of files) {\n",
              "    const li = document.createElement('li');\n",
              "    li.append(span(file.name, {fontWeight: 'bold'}));\n",
              "    li.append(span(\n",
              "        `(${file.type || 'n/a'}) - ${file.size} bytes, ` +\n",
              "        `last modified: ${\n",
              "            file.lastModifiedDate ? file.lastModifiedDate.toLocaleDateString() :\n",
              "                                    'n/a'} - `));\n",
              "    const percent = span('0% done');\n",
              "    li.appendChild(percent);\n",
              "\n",
              "    outputElement.appendChild(li);\n",
              "\n",
              "    const fileDataPromise = new Promise((resolve) => {\n",
              "      const reader = new FileReader();\n",
              "      reader.onload = (e) => {\n",
              "        resolve(e.target.result);\n",
              "      };\n",
              "      reader.readAsArrayBuffer(file);\n",
              "    });\n",
              "    // Wait for the data to be ready.\n",
              "    let fileData = yield {\n",
              "      promise: fileDataPromise,\n",
              "      response: {\n",
              "        action: 'continue',\n",
              "      }\n",
              "    };\n",
              "\n",
              "    // Use a chunked sending to avoid message size limits. See b/62115660.\n",
              "    let position = 0;\n",
              "    do {\n",
              "      const length = Math.min(fileData.byteLength - position, MAX_PAYLOAD_SIZE);\n",
              "      const chunk = new Uint8Array(fileData, position, length);\n",
              "      position += length;\n",
              "\n",
              "      const base64 = btoa(String.fromCharCode.apply(null, chunk));\n",
              "      yield {\n",
              "        response: {\n",
              "          action: 'append',\n",
              "          file: file.name,\n",
              "          data: base64,\n",
              "        },\n",
              "      };\n",
              "\n",
              "      let percentDone = fileData.byteLength === 0 ?\n",
              "          100 :\n",
              "          Math.round((position / fileData.byteLength) * 100);\n",
              "      percent.textContent = `${percentDone}% done`;\n",
              "\n",
              "    } while (position < fileData.byteLength);\n",
              "  }\n",
              "\n",
              "  // All done.\n",
              "  yield {\n",
              "    response: {\n",
              "      action: 'complete',\n",
              "    }\n",
              "  };\n",
              "}\n",
              "\n",
              "scope.google = scope.google || {};\n",
              "scope.google.colab = scope.google.colab || {};\n",
              "scope.google.colab._files = {\n",
              "  _uploadFiles,\n",
              "  _uploadFilesContinue,\n",
              "};\n",
              "})(self);\n",
              "</script> "
            ]
          },
          "metadata": {}
        },
        {
          "output_type": "stream",
          "name": "stdout",
          "text": [
            "Saving filename.csv to filename (2).csv\n",
            "Enter the column index (starting from 0): 3\n",
            "The sum of values in the specified column is: 350000.0\n"
          ]
        }
      ],
      "source": [
        "import csv\n",
        "from google.colab import files\n",
        "uploaded = files.upload()\n",
        "filename = 'filename.csv'\n",
        "with open(filename, 'r') as csv_file:\n",
        "    csv_reader = csv.reader(csv_file)\n",
        "    header = next(csv_reader)\n",
        "    sp_clm = int(input(\"Enter the column index (starting from 0): \"))\n",
        "    total_sum = 0\n",
        "    for line in csv_reader:\n",
        "        try:\n",
        "            total_sum += float(line[sp_clm])\n",
        "        except ValueError:\n",
        "            pass\n",
        "\n",
        "    print(f\"The sum of values in the specified column is: {total_sum}\")"
      ]
    },
    {
      "cell_type": "markdown",
      "id": "30ff60bb",
      "metadata": {
        "id": "30ff60bb"
      },
      "source": [
        "21."
      ]
    },
    {
      "cell_type": "code",
      "execution_count": null,
      "id": "1ba4f4d0",
      "metadata": {
        "id": "1ba4f4d0",
        "outputId": "95a2ef21-e888-47df-fbf2-7ddd0d11b3f0",
        "colab": {
          "base_uri": "https://localhost:8080/",
          "height": 551
        }
      },
      "outputs": [
        {
          "output_type": "stream",
          "name": "stdout",
          "text": [
            "[15, 20, 35, 40, 50, 60, 75, 80, 95, 100]\n",
            "57.0\n",
            "55.0\n",
            "30.018512806451806\n",
            "57\n",
            "55.0\n",
            "30.018512806451806\n"
          ]
        },
        {
          "output_type": "display_data",
          "data": {
            "text/plain": [
              "<Figure size 640x480 with 1 Axes>"
            ],
            "image/png": "[encoded data removed]"
          },
          "metadata": {}
        }
      ],
      "source": [
        "import statistics\n",
        "import matplotlib.pyplot as plt\n",
        "lst=eval(input())\n",
        "\n",
        "def mean(x):\n",
        "    summ=0\n",
        "    l=len(x)\n",
        "    for item in x:\n",
        "        summ+=item\n",
        "    mean=summ/l\n",
        "    return mean\n",
        "\n",
        "def median(x):\n",
        "    x.sort()\n",
        "    if len(x)%2==0: #even\n",
        "        a=len(x)//2\n",
        "        b=a+1\n",
        "        i=(x[a-1]+x[b-1])/2\n",
        "        return i\n",
        "    else:   #odd\n",
        "        a=int((len(x)/2)+0.5)\n",
        "        return x[a-1]\n",
        "\n",
        "def sd(x):\n",
        "    summ=0\n",
        "    l=len(x)\n",
        "    for item in x:\n",
        "        summ+=item\n",
        "    mean=summ/l\n",
        "\n",
        "    add=0\n",
        "    for item in x:\n",
        "       add+=(item-mean)**2\n",
        "    sd=(add/(l-1))**0.5\n",
        "\n",
        "    return sd\n",
        "    # return statistics.stdev(x)\n",
        "print(mean(lst))\n",
        "print(median(lst))\n",
        "print(sd(lst))\n",
        "print(statistics.mean(lst))\n",
        "print(statistics.median(lst))\n",
        "print(statistics.stdev(lst))\n",
        "plt.boxplot(lst)\n",
        "plt.show()\n"
      ]
    },
    {
      "cell_type": "markdown",
      "source": [],
      "metadata": {
        "id": "srU29KT83fSg"
      },
      "id": "srU29KT83fSg"
    },
    {
      "cell_type": "markdown",
      "id": "6604b2e6",
      "metadata": {
        "id": "6604b2e6"
      },
      "source": [
        "22.(min max normalization i have used)"
      ]
    },
    {
      "cell_type": "code",
      "execution_count": null,
      "id": "76b1a6a2",
      "metadata": {
        "id": "76b1a6a2",
        "outputId": "d59627cc-6cb0-48b7-8e39-eb2480b1a1e9",
        "colab": {
          "base_uri": "https://localhost:8080/"
        }
      },
      "outputs": [
        {
          "output_type": "stream",
          "name": "stdout",
          "text": [
            "[10, 20, 30, 40, 50]\n",
            "[0.0, 0.25, 0.5, 0.75, 1.0]\n"
          ]
        }
      ],
      "source": [
        "lst=eval(input())\n",
        "mi=min(lst)\n",
        "ma=max(lst)\n",
        "nlst=[]\n",
        "for item in lst:\n",
        "    a=(item-mi)/(ma-mi)\n",
        "    nlst.append(a)\n",
        "print(nlst)"
      ]
    },
    {
      "cell_type": "markdown",
      "id": "13a4ec42",
      "metadata": {
        "id": "13a4ec42"
      },
      "source": [
        "23."
      ]
    },
    {
      "cell_type": "code",
      "execution_count": null,
      "id": "899b3fb5",
      "metadata": {
        "id": "899b3fb5",
        "outputId": "453a4044-273e-4fd7-d89e-efa76f465eca",
        "colab": {
          "base_uri": "https://localhost:8080/"
        }
      },
      "outputs": [
        {
          "output_type": "stream",
          "name": "stdout",
          "text": [
            "55\n",
            "Odd\n"
          ]
        }
      ],
      "source": [
        "n=int(input())\n",
        "if n%2==0:\n",
        "    print(\"Even\")\n",
        "else:\n",
        "    print(\"Odd\")"
      ]
    },
    {
      "cell_type": "markdown",
      "id": "e3d3cce6",
      "metadata": {
        "id": "e3d3cce6"
      },
      "source": [
        "24."
      ]
    },
    {
      "cell_type": "code",
      "execution_count": null,
      "id": "58a2add1",
      "metadata": {
        "id": "58a2add1",
        "outputId": "ae13e3f0-d71e-4c88-d5ad-8b5acc671765",
        "colab": {
          "base_uri": "https://localhost:8080/"
        }
      },
      "outputs": [
        {
          "output_type": "stream",
          "name": "stdout",
          "text": [
            "89\n",
            "B\n"
          ]
        }
      ],
      "source": [
        "n=float(input())\n",
        "if n>=90:\n",
        "    print(\"A\")\n",
        "elif 80<=n<90:\n",
        "    print(\"B\")\n",
        "elif 70<=n<80:\n",
        "    print(\"C\")\n",
        "elif 60<=n<70:\n",
        "    print(\"D\")\n",
        "else:\n",
        "    print(\"F\")\n",
        "\n"
      ]
    },
    {
      "cell_type": "markdown",
      "id": "c7d94a64",
      "metadata": {
        "id": "c7d94a64"
      },
      "source": [
        "25."
      ]
    },
    {
      "cell_type": "code",
      "execution_count": null,
      "id": "3742e3d8",
      "metadata": {
        "id": "3742e3d8",
        "outputId": "16555cc5-4b05-4f77-f203-b26b5ae59e52",
        "colab": {
          "base_uri": "https://localhost:8080/"
        }
      },
      "outputs": [
        {
          "output_type": "stream",
          "name": "stdout",
          "text": [
            "2024\n",
            "It is leap year.\n"
          ]
        }
      ],
      "source": [
        "n=int(input())\n",
        "if (n%4==0 and n%100!=0) or n%400==0:\n",
        "    print(\"It is leap year.\")\n",
        "else:\n",
        "    print(\"It is not a leap year.\")"
      ]
    },
    {
      "cell_type": "code",
      "execution_count": null,
      "id": "63de6627",
      "metadata": {
        "id": "63de6627"
      },
      "outputs": [],
      "source": []
    }
  ],
  "metadata": {
    "kernelspec": {
      "display_name": "Python 3",
      "language": "python",
      "name": "python3"
    },
    "language_info": {
      "codemirror_mode": {
        "name": "ipython",
        "version": 3
      },
      "file_extension": ".py",
      "mimetype": "text/x-python",
      "name": "python",
      "nbconvert_exporter": "python",
      "pygments_lexer": "ipython3",
      "version": "3.12.7"
    },
    "colab": {
      "provenance": [],
      "include_colab_link": true
    }
  },
  "nbformat": 4,
  "nbformat_minor": 5
}